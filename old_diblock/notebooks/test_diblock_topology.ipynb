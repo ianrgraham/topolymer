{
 "cells": [
  {
   "cell_type": "code",
   "execution_count": 59,
   "metadata": {},
   "outputs": [],
   "source": [
    "import gudhi\n",
    "import numpy as np\n",
    "import gudhi.representations"
   ]
  },
  {
   "cell_type": "code",
   "execution_count": 26,
   "metadata": {},
   "outputs": [
    {
     "name": "stdout",
     "output_type": "stream",
     "text": [
      "Cubical complex is of dimension 3 - 132651 simplices.\n"
     ]
    }
   ],
   "source": [
    "cubical_complex = gudhi.CubicalComplex(dimensions=[25,25,25], top_dimensional_cells=t)\n",
    "result_str = 'Cubical complex is of dimension ' + repr(cubical_complex.dimension()) + ' - ' + \\\n",
    "    repr(cubical_complex.num_simplices()) + ' simplices.'\n",
    "print(result_str)"
   ]
  },
  {
   "cell_type": "code",
   "execution_count": 3,
   "metadata": {},
   "outputs": [],
   "source": [
    "a = np.loadtxt(\"order_grid_2_node/hex/hex_1.8_1.0_0.25/ty_2.1000000.txt\")"
   ]
  },
  {
   "cell_type": "code",
   "execution_count": 25,
   "metadata": {},
   "outputs": [],
   "source": [
    "t = a[:,0]"
   ]
  },
  {
   "cell_type": "code",
   "execution_count": 22,
   "metadata": {},
   "outputs": [
    {
     "data": {
      "text/plain": [
       "15625"
      ]
     },
     "execution_count": 22,
     "metadata": {},
     "output_type": "execute_result"
    }
   ],
   "source": [
    "25**3"
   ]
  },
  {
   "cell_type": "code",
   "execution_count": 17,
   "metadata": {},
   "outputs": [
    {
     "data": {
      "text/plain": [
       "25"
      ]
     },
     "execution_count": 17,
     "metadata": {},
     "output_type": "execute_result"
    }
   ],
   "source": [
    "np.arange(0,99,4).size"
   ]
  },
  {
   "cell_type": "code",
   "execution_count": 53,
   "metadata": {},
   "outputs": [],
   "source": [
    "cubical_complex.compute_persistence()"
   ]
  },
  {
   "cell_type": "code",
   "execution_count": 54,
   "metadata": {},
   "outputs": [
    {
     "data": {
      "text/plain": [
       "[1, 0, 0, 0]"
      ]
     },
     "execution_count": 54,
     "metadata": {},
     "output_type": "execute_result"
    }
   ],
   "source": [
    "cubical_complex.persistent_betti_numbers(.5, 1)"
   ]
  },
  {
   "cell_type": "code",
   "execution_count": 55,
   "metadata": {},
   "outputs": [
    {
     "data": {
      "text/plain": [
       "array([0.0291, 0.0109, 0.    , ..., 0.0046, 0.0043, 0.    ])"
      ]
     },
     "execution_count": 55,
     "metadata": {},
     "output_type": "execute_result"
    }
   ],
   "source": [
    "t"
   ]
  },
  {
   "cell_type": "code",
   "execution_count": 75,
   "metadata": {},
   "outputs": [],
   "source": [
    "for dim in [0,1,2]:\n",
    "    d = cubical_complex.persistence_intervals_in_dimension(dim)\n",
    "    np.save(f\"test_{dim}\", d)"
   ]
  },
  {
   "cell_type": "markdown",
   "metadata": {},
   "source": [
    "We are going to compute the persistence for both concentrations,"
   ]
  },
  {
   "cell_type": "code",
   "execution_count": null,
   "metadata": {},
   "outputs": [],
   "source": [
    "def process_homology()"
   ]
  },
  {
   "cell_type": "code",
   "execution_count": 76,
   "metadata": {},
   "outputs": [],
   "source": [
    "betti = gudhi.representations.vector_methods.BettiCurve().__call__(d)"
   ]
  },
  {
   "cell_type": "code",
   "execution_count": 77,
   "metadata": {},
   "outputs": [],
   "source": [
    "np.save(\"betti_2\", betti)"
   ]
  },
  {
   "cell_type": "code",
   "execution_count": 72,
   "metadata": {},
   "outputs": [
    {
     "data": {
      "text/plain": [
       "array([[0.000e+00, 1.000e-04],\n",
       "       [0.000e+00, 9.000e-04],\n",
       "       [0.000e+00, 9.000e-04],\n",
       "       [0.000e+00, 1.000e-03],\n",
       "       [0.000e+00, 1.000e-03],\n",
       "       [0.000e+00, 1.200e-03],\n",
       "       [4.000e-04, 1.300e-03],\n",
       "       [7.000e-04, 2.100e-03],\n",
       "       [0.000e+00, 2.600e-03],\n",
       "       [0.000e+00, 2.800e-03],\n",
       "       [0.000e+00, 3.300e-03],\n",
       "       [1.500e-03, 4.000e-03],\n",
       "       [5.000e-04, 4.200e-03],\n",
       "       [0.000e+00, 4.500e-03],\n",
       "       [1.600e-03, 4.900e-03],\n",
       "       [0.000e+00, 5.200e-03],\n",
       "       [5.200e-03, 5.700e-03],\n",
       "       [0.000e+00, 6.200e-03],\n",
       "       [3.600e-03, 7.100e-03],\n",
       "       [0.000e+00, 7.100e-03],\n",
       "       [7.400e-03, 9.300e-03],\n",
       "       [1.000e-03, 9.800e-03],\n",
       "       [1.610e-02, 1.820e-02],\n",
       "       [4.000e-04, 1.920e-02],\n",
       "       [3.120e-02, 4.290e-02],\n",
       "       [1.823e-01, 3.055e-01],\n",
       "       [3.209e-01, 3.342e-01],\n",
       "       [1.829e-01, 3.522e-01],\n",
       "       [0.000e+00,       inf]])"
      ]
     },
     "execution_count": 72,
     "metadata": {},
     "output_type": "execute_result"
    }
   ],
   "source": [
    "d"
   ]
  },
  {
   "cell_type": "code",
   "execution_count": 79,
   "metadata": {},
   "outputs": [
    {
     "name": "stdout",
     "output_type": "stream",
     "text": [
      "gyr\n",
      "order_grid_2_node/gyr/g_n_1.5_5.0_0.36\n",
      "order_grid_2_node/gyr/g_n_1.6_5.0_0.33\n",
      "order_grid_2_node/gyr/g_1.9_2.0_0.35\n",
      "order_grid_2_node/gyr/g_2.0_2.0_0.35\n",
      "order_grid_2_node/gyr/g_n_1.8_5.0_0.36_p\n",
      "order_grid_2_node/gyr/g_2.2_2.0_0.35\n",
      "hex\n",
      "order_grid_2_node/hex/hex_1.8_1.0_0.25\n",
      "order_grid_2_node/hex/hex_3.6_1.0_0.25\n",
      "order_grid_2_node/hex/hex_2.4_1.0_0.25\n",
      "order_grid_2_node/hex/hex_2.2_1.0_0.25\n",
      "order_grid_2_node/hex/hex_3.2_1.0_0.25\n",
      "order_grid_2_node/hex/hex_2.7_3.0_0.25\n",
      "order_grid_2_node/hex/hex_2.9_3.0_0.25\n",
      "order_grid_2_node/hex/hex_3.4_3.0_0.25\n",
      "order_grid_2_node/hex/hex_2.8_3.0_0.25\n",
      "order_grid_2_node/hex/hex_2.2_3.0_0.3\n",
      "lam\n",
      "order_grid_2_node/lam/lammelar_1.7_1.0_1_d\n",
      "order_grid_2_node/lam/lammelar_1.75_1.0_2_d\n",
      "order_grid_2_node/lam/lammelar_1.75_1.0_1_d\n",
      "order_grid_2_node/lam/lammelar_1.6_2.0_1_d\n",
      "order_grid_2_node/lam/lammelar_1.65_1.0_1_d\n",
      "order_grid_2_node/lam/lammelar_1.3_2.0_1_d\n",
      "order_grid_2_node/lam/lammelar_1.3_1.0_1_d\n",
      "order_grid_2_node/lam/lammelar_1.35_1.0_1_d\n",
      "order_grid_2_node/lam/lammelar_1.2_2.0_1_d\n",
      "order_grid_2_node/lam/lammelar_1.2_1.0_1_d\n",
      "order_grid_2_node/lam/lammelar_1.25_1.0_2_d\n",
      "order_grid_2_node/lam/lammelar_1.25_1.0_1_d\n",
      "order_grid_2_node/lam/lammelar_1.0_1.0_2_d\n",
      "order_grid_2_node/lam/lammelar_2.4_3.0_1_d\n",
      "order_grid_2_node/lam/lammelar_2.4_2.0_1_d\n",
      "order_grid_2_node/lam/lammelar_2.3_3.0_1_d\n",
      "order_grid_2_node/lam/lammelar_2.3_2.0_1_d\n",
      "order_grid_2_node/lam/lammelar_2.2_3.0_1_d\n",
      "order_grid_2_node/lam/lammelar_2.1_3.0_1_d\n",
      "order_grid_2_node/lam/lammelar_1.9_2.0_1_d\n",
      "order_grid_2_node/lam/lammelar_1.9_1.0_2_d\n",
      "order_grid_2_node/lam/lammelar_1.8_2.0_1_d\n",
      "order_grid_2_node/lam/lammelar_1.8_1.0_1_d\n",
      "order_grid_2_node/lam/lammelar_1.85_1.0_1_d\n",
      "order_grid_2_node/lam/lammelar_1.7_2.0_1_d\n",
      "order_grid_2_node/lam/lammelar_1.0_1.0_1_d\n",
      "order_grid_2_node/lam/lammelar_1.2_3.0_1_d\n",
      "order_grid_2_node/lam/lammelar_1.0_2.0_1_d\n",
      "order_grid_2_node/lam/lammelar_1.1_3.0_1_d\n",
      "order_grid_2_node/lam/lammelar_1.1_2.0_1_d\n",
      "order_grid_2_node/lam/lammelar_2.7_2.0_1_d\n",
      "order_grid_2_node/lam/lammelar_2.6_3.0_1_d\n",
      "order_grid_2_node/lam/lammelar_2.6_2.0_1_d\n",
      "sph\n",
      "order_grid_2_node/sph/sphere_3.9_3.0_0.15\n",
      "order_grid_2_node/sph/sphere_4.0_3.0_0.15\n",
      "order_grid_2_node/sph/sphere_4.1_3.0_0.15\n",
      "order_grid_2_node/sph/sphere_4.2_3.0_0.15\n",
      "order_grid_2_node/sph/sphere_4.3_3.0_0.15\n",
      "order_grid_2_node/sph/sphere_4.4_3.0_0.15\n",
      "order_grid_2_node/sph/sphere_4.5_3.0_0.15\n"
     ]
    }
   ],
   "source": [
    "import os\n",
    "import glob\n",
    "\n",
    "rdir = \"order_grid_2_node\"\n",
    "subdirs = [\"gyr\",\"hex\",\"lam\",\"sph\"]\n",
    "\n",
    "betti = gudhi.representations.vector_methods.BettiCurve(sample_range=[0, 1]).__call__\n",
    "\n",
    "for sub in subdirs:\n",
    "        print(sub)\n",
    "        ndir = os.path.join(rdir,sub)\n",
    "        ssdirs = glob.glob(ndir+\"/*\")\n",
    "        for ssub in ssdirs:\n",
    "                print(ssub)\n",
    "                files = glob.glob(ssub+\"/ty*.txt\")\n",
    "                for f in files:\n",
    "                        data = np.loadtxt(f)\n",
    "                        a_conc = data[:,0]\n",
    "                        b_conc = data[:,1]\n",
    "                        cc_a = gudhi.CubicalComplex(dimensions=[25,25,25], top_dimensional_cells=a_conc)\n",
    "                        cc_b = gudhi.CubicalComplex(dimensions=[25,25,25], top_dimensional_cells=b_conc)\n",
    "                        cc_a.compute_persistence()\n",
    "                        cc_b.compute_persistence()\n",
    "                        for dim in [0,1,2]:\n",
    "                                bd_a = cc_a.persistence_intervals_in_dimension(dim)\n",
    "                                np.save(f.replace(\".txt\",f\"_bd{dim}_a\"), bd_a)\n",
    "                                np.save(f.replace(\".txt\",f\"_bet{dim}_a\"), betti(bd_a))\n",
    "                                bd_b = cc_b.persistence_intervals_in_dimension(dim)\n",
    "                                np.save(f.replace(\".txt\",f\"_bd{dim}_b\"), bd_b)\n",
    "                                np.save(f.replace(\".txt\",f\"_bet{dim}_b\"), betti(bd_b))"
   ]
  },
  {
   "cell_type": "code",
   "execution_count": null,
   "metadata": {},
   "outputs": [],
   "source": []
  }
 ],
 "metadata": {
  "kernelspec": {
   "display_name": "Python (gudhi)",
   "language": "python",
   "name": "gudhi"
  },
  "language_info": {
   "codemirror_mode": {
    "name": "ipython",
    "version": 3
   },
   "file_extension": ".py",
   "mimetype": "text/x-python",
   "name": "python",
   "nbconvert_exporter": "python",
   "pygments_lexer": "ipython3",
   "version": "3.8.5"
  }
 },
 "nbformat": 4,
 "nbformat_minor": 4
}
