{
 "cells": [
  {
   "cell_type": "code",
   "execution_count": 48,
   "metadata": {},
   "outputs": [
    {
     "name": "stdout",
     "output_type": "stream",
     "text": [
      "gyr\n",
      "order_grid_2_node/gyr/g_n_1.5_5.0_0.36\n",
      "order_grid_2_node/gyr/g_n_1.6_5.0_0.33\n",
      "order_grid_2_node/gyr/g_1.9_2.0_0.35\n",
      "order_grid_2_node/gyr/g_2.0_2.0_0.35\n",
      "order_grid_2_node/gyr/g_n_1.8_5.0_0.36_p\n",
      "order_grid_2_node/gyr/g_2.2_2.0_0.35\n",
      "hex\n",
      "order_grid_2_node/hex/hex_1.8_1.0_0.25\n",
      "order_grid_2_node/hex/hex_3.6_1.0_0.25\n",
      "order_grid_2_node/hex/hex_2.4_1.0_0.25\n",
      "order_grid_2_node/hex/hex_2.2_1.0_0.25\n",
      "order_grid_2_node/hex/hex_3.2_1.0_0.25\n",
      "order_grid_2_node/hex/hex_2.7_3.0_0.25\n",
      "order_grid_2_node/hex/hex_2.9_3.0_0.25\n",
      "order_grid_2_node/hex/hex_3.4_3.0_0.25\n",
      "order_grid_2_node/hex/hex_2.8_3.0_0.25\n",
      "order_grid_2_node/hex/hex_2.2_3.0_0.3\n",
      "lam\n",
      "order_grid_2_node/lam/lammelar_1.7_1.0_1_d\n",
      "order_grid_2_node/lam/lammelar_1.75_1.0_2_d\n",
      "order_grid_2_node/lam/lammelar_1.75_1.0_1_d\n",
      "order_grid_2_node/lam/lammelar_1.6_2.0_1_d\n",
      "order_grid_2_node/lam/lammelar_1.65_1.0_1_d\n",
      "order_grid_2_node/lam/lammelar_1.3_2.0_1_d\n",
      "order_grid_2_node/lam/lammelar_1.3_1.0_1_d\n",
      "order_grid_2_node/lam/lammelar_1.35_1.0_1_d\n",
      "order_grid_2_node/lam/lammelar_1.2_2.0_1_d\n",
      "order_grid_2_node/lam/lammelar_1.2_1.0_1_d\n",
      "order_grid_2_node/lam/lammelar_1.25_1.0_2_d\n",
      "order_grid_2_node/lam/lammelar_1.25_1.0_1_d\n",
      "order_grid_2_node/lam/lammelar_1.0_1.0_2_d\n",
      "order_grid_2_node/lam/lammelar_2.4_3.0_1_d\n",
      "order_grid_2_node/lam/lammelar_2.4_2.0_1_d\n",
      "order_grid_2_node/lam/lammelar_2.3_3.0_1_d\n",
      "order_grid_2_node/lam/lammelar_2.3_2.0_1_d\n",
      "order_grid_2_node/lam/lammelar_2.2_3.0_1_d\n",
      "order_grid_2_node/lam/lammelar_2.1_3.0_1_d\n",
      "order_grid_2_node/lam/lammelar_1.9_2.0_1_d\n",
      "order_grid_2_node/lam/lammelar_1.9_1.0_2_d\n",
      "order_grid_2_node/lam/lammelar_1.8_2.0_1_d\n",
      "order_grid_2_node/lam/lammelar_1.8_1.0_1_d\n",
      "order_grid_2_node/lam/lammelar_1.85_1.0_1_d\n",
      "order_grid_2_node/lam/lammelar_1.7_2.0_1_d\n",
      "order_grid_2_node/lam/lammelar_1.0_1.0_1_d\n",
      "order_grid_2_node/lam/lammelar_1.2_3.0_1_d\n",
      "order_grid_2_node/lam/lammelar_1.0_2.0_1_d\n",
      "order_grid_2_node/lam/lammelar_1.1_3.0_1_d\n",
      "order_grid_2_node/lam/lammelar_1.1_2.0_1_d\n",
      "order_grid_2_node/lam/lammelar_2.7_2.0_1_d\n",
      "order_grid_2_node/lam/lammelar_2.6_3.0_1_d\n",
      "order_grid_2_node/lam/lammelar_2.6_2.0_1_d\n",
      "sph\n",
      "order_grid_2_node/sph/sphere_3.9_3.0_0.15\n",
      "order_grid_2_node/sph/sphere_4.0_3.0_0.15\n",
      "order_grid_2_node/sph/sphere_4.1_3.0_0.15\n",
      "order_grid_2_node/sph/sphere_4.2_3.0_0.15\n",
      "order_grid_2_node/sph/sphere_4.3_3.0_0.15\n",
      "order_grid_2_node/sph/sphere_4.4_3.0_0.15\n",
      "order_grid_2_node/sph/sphere_4.5_3.0_0.15\n"
     ]
    }
   ],
   "source": [
    "import numpy as np\n",
    "import matplotlib.pyplot as plt\n",
    "import os\n",
    "import glob\n",
    "\n",
    "%config InlineBackend.figure_format = 'retina'\n",
    "%matplotlib inline\n",
    "\n",
    "rdir = \"order_grid_2_node\"\n",
    "subdirs = [\"gyr\",\"hex\",\"lam\",\"sph\"]\n",
    "\n",
    "vecs = []\n",
    "truth = []\n",
    "k = 0\n",
    "for sub in subdirs:\n",
    "        print(sub)\n",
    "        ndir = os.path.join(rdir,sub)\n",
    "        ssdirs = glob.glob(ndir+\"/*\")\n",
    "        for ssub in ssdirs:\n",
    "                print(ssub)\n",
    "                files = glob.glob(ssub+\"/ty*.txt\")\n",
    "                for f in files:\n",
    "                        sub_dat = []\n",
    "                        for dim in [0,1,2]:\n",
    "                                bet_a = np.load(f.replace(\".txt\",f\"_bet{dim}_a.npy\"))\n",
    "                                bet_b = np.load(f.replace(\".txt\",f\"_bet{dim}_b.npy\"))\n",
    "                                sub_dat.append(np.concatenate([bet_a, bet_b]))\n",
    "                        vecs.append(np.concatenate(sub_dat))\n",
    "                        truth.append(k)\n",
    "        k += 1"
   ]
  },
  {
   "cell_type": "code",
   "execution_count": 3,
   "metadata": {},
   "outputs": [
    {
     "data": {
      "text/plain": [
       "1847"
      ]
     },
     "execution_count": 3,
     "metadata": {},
     "output_type": "execute_result"
    }
   ],
   "source": [
    "len(truth)"
   ]
  },
  {
   "cell_type": "code",
   "execution_count": 4,
   "metadata": {},
   "outputs": [
    {
     "data": {
      "text/plain": [
       "1847"
      ]
     },
     "execution_count": 4,
     "metadata": {},
     "output_type": "execute_result"
    }
   ],
   "source": [
    "len(vecs)"
   ]
  },
  {
   "cell_type": "code",
   "execution_count": 5,
   "metadata": {},
   "outputs": [
    {
     "name": "stdout",
     "output_type": "stream",
     "text": [
      "4\n"
     ]
    }
   ],
   "source": [
    "print(k)"
   ]
  },
  {
   "cell_type": "code",
   "execution_count": 6,
   "metadata": {},
   "outputs": [
    {
     "name": "stdout",
     "output_type": "stream",
     "text": [
      "0.16\n",
      "predict_l_n_2.0/0.16/ph_3.5_5.0_0.12\n",
      "predict_l_n_2.0/0.16/ph_3.7_5.0_0.12\n",
      "0.2\n",
      "predict_l_n_2.0/0.2/ph_1.8_5.0_0.2\n",
      "predict_l_n_2.0/0.2/ph_1.9_5.0_0.2\n",
      "predict_l_n_2.0/0.2/ph_2.0_5.0_0.2\n",
      "predict_l_n_2.0/0.2/ph_2.2_5.0_0.2\n",
      "predict_l_n_2.0/0.2/ph_2.6_5.0_0.2\n",
      "0.28\n",
      "predict_l_n_2.0/0.28/ph_1.3_5.0_0.28\n",
      "predict_l_n_2.0/0.28/ph_1.4_5.0_0.28\n",
      "predict_l_n_2.0/0.28/ph_1.5_5.0_0.28\n",
      "predict_l_n_2.0/0.28/ph_1.8_5.0_0.28\n",
      "predict_l_n_2.0/0.28/ph_2.0_5.0_0.28\n",
      "predict_l_n_2.0/0.28/ph_2.2_5.0_0.28\n",
      "predict_l_n_2.0/0.28/ph_2.5_5.0_0.28\n",
      "0.32\n",
      "predict_l_n_2.0/0.32/ph_1.1_5.0_0.32\n",
      "predict_l_n_2.0/0.32/ph_1.2_5.0_0.32\n",
      "predict_l_n_2.0/0.32/ph_1.3_5.0_0.32\n",
      "predict_l_n_2.0/0.32/ph_1.5_5.0_0.32\n",
      "predict_l_n_2.0/0.32/ph_1.9_5.0_0.32\n",
      "predict_l_n_2.0/0.32/ph_1.7_5.0_0.32\n",
      "0.36\n",
      "predict_l_n_2.0/0.36/ph_1.2_5.0_0.36\n",
      "predict_l_n_2.0/0.36/ph_1.3_5.0_0.36\n",
      "predict_l_n_2.0/0.36/ph_1.5_5.0_0.36\n",
      "predict_l_n_2.0/0.36/ph_1.7_5.0_0.36\n",
      "predict_l_n_2.0/0.36/ph_1.9_5.0_0.36\n",
      "predict_l_n_2.0/0.36/ph_2.1_5.0_0.36\n",
      "0.44\n",
      "predict_l_n_2.0/0.44/ph_1.7_5.0_0.44\n",
      "predict_l_n_2.0/0.44/ph_1.5_5.0_0.44\n",
      "predict_l_n_2.0/0.44/ph_1.1_5.0_0.44\n",
      "predict_l_n_2.0/0.44/ph_1.0_5.0_0.44\n",
      "predict_l_n_2.0/0.44/ph_0.9_5.0_0.44\n"
     ]
    }
   ],
   "source": [
    "rdir = \"predict_l_n_2.0\"\n",
    "subdirs = [\"0.16\", \"0.2\", \"0.28\", \"0.32\", \"0.36\", \"0.44\"]\n",
    "\n",
    "phases = [\"gyr\",\"hex\",\"lam\",\"sph\"]\n",
    "\n",
    "mess_vecs = []\n",
    "mess_group = []\n",
    "mess_time = []\n",
    "mess_truth = []\n",
    "k = 1\n",
    "for sub in subdirs:\n",
    "        print(sub)\n",
    "        ndir = os.path.join(rdir,sub)\n",
    "        ssdirs = glob.glob(ndir+\"/*\")\n",
    "        for ssub in ssdirs:\n",
    "                ph_type = glob.glob(ssub+\"/type_*\")\n",
    "                if len(ph_type) == 0:\n",
    "                    continue\n",
    "                ph_type = ph_type[0]\n",
    "                if phases[0] in ph_type:\n",
    "                        trut = 0\n",
    "                elif phases[1] in ph_type:\n",
    "                        trut = 1\n",
    "                elif phases[2] in ph_type:\n",
    "                        trut = 2\n",
    "                elif phases[3] in ph_type:\n",
    "                        trut = 3\n",
    "                print(ssub)\n",
    "                files = glob.glob(ssub+\"/ty*.txt\")\n",
    "                files = sorted(files)\n",
    "                for idx, f in enumerate(files):\n",
    "                        sub_dat = []\n",
    "                        for dim in [0,1,2]:\n",
    "                                bet_a = np.load(f.replace(\".txt\",f\"_bet{dim}_a.npy\"))\n",
    "                                bet_b = np.load(f.replace(\".txt\",f\"_bet{dim}_b.npy\"))\n",
    "                                sub_dat.append(np.concatenate([bet_a, bet_b]))\n",
    "                        mess_vecs.append(np.concatenate(sub_dat))\n",
    "                        if idx == len(files)-1:\n",
    "                                mess_group.append(k)\n",
    "                        else:\n",
    "                                mess_group.append(-k)\n",
    "                        mess_truth.append(trut)\n",
    "                        mess_time.append(idx/len(files))\n",
    "                k += 1"
   ]
  },
  {
   "cell_type": "code",
   "execution_count": 7,
   "metadata": {},
   "outputs": [
    {
     "data": {
      "text/plain": [
       "621"
      ]
     },
     "execution_count": 7,
     "metadata": {},
     "output_type": "execute_result"
    }
   ],
   "source": [
    "len(mess_vecs)"
   ]
  },
  {
   "cell_type": "code",
   "execution_count": 8,
   "metadata": {},
   "outputs": [],
   "source": [
    "import sklearn\n",
    "from sklearn import svm"
   ]
  },
  {
   "cell_type": "code",
   "execution_count": 43,
   "metadata": {},
   "outputs": [],
   "source": [
    "clf = svm.SVC(class_weight=\"balanced\", kernel=\"linear\")"
   ]
  },
  {
   "cell_type": "code",
   "execution_count": 12,
   "metadata": {},
   "outputs": [],
   "source": [
    "from sklearn.model_selection import train_test_split\n",
    "from sklearn.metrics import accuracy_score"
   ]
  },
  {
   "cell_type": "code",
   "execution_count": 47,
   "metadata": {},
   "outputs": [
    {
     "data": {
      "text/plain": [
       "2"
      ]
     },
     "execution_count": 47,
     "metadata": {},
     "output_type": "execute_result"
    }
   ],
   "source": [
    "truth"
   ]
  },
  {
   "cell_type": "code",
   "execution_count": 49,
   "metadata": {},
   "outputs": [],
   "source": [
    "X_train, X_test, y_train, y_test = train_test_split(vecs, truth, test_size=0.70, random_state=42)"
   ]
  },
  {
   "cell_type": "code",
   "execution_count": 50,
   "metadata": {},
   "outputs": [
    {
     "data": {
      "text/plain": [
       "SVC(class_weight='balanced', kernel='linear')"
      ]
     },
     "execution_count": 50,
     "metadata": {},
     "output_type": "execute_result"
    }
   ],
   "source": [
    "clf.fit(X_train, y_train)"
   ]
  },
  {
   "cell_type": "code",
   "execution_count": 51,
   "metadata": {},
   "outputs": [],
   "source": [
    "y_pred = clf.predict(X_test)"
   ]
  },
  {
   "cell_type": "code",
   "execution_count": 52,
   "metadata": {},
   "outputs": [
    {
     "data": {
      "text/plain": [
       "1.0"
      ]
     },
     "execution_count": 52,
     "metadata": {},
     "output_type": "execute_result"
    }
   ],
   "source": [
    "accuracy_score(y_test, y_pred)"
   ]
  },
  {
   "cell_type": "code",
   "execution_count": 53,
   "metadata": {},
   "outputs": [],
   "source": [
    "# now fit the data from the messy runs, and then se if we can classify the remaining data by the final label\n",
    "mess_vecs = np.array(mess_vecs)\n",
    "mess_group = np.array(mess_group)\n",
    "mess_time = np.array(mess_time)\n",
    "\n",
    "cond = mess_group > 0\n",
    "\n",
    "reduc_vecs = mess_vecs[cond]\n",
    "reduc_groups = mess_group[cond]\n",
    "\n",
    "reduc_pred = clf.predict(reduc_vecs)\n",
    "prediction_map = {reduc_groups[i]:reduc_pred[i] for i in range(len(reduc_groups))}\n",
    "\n",
    "abs_mess_group = np.abs(mess_group)\n",
    "mess_pred = list(map(lambda x:prediction_map[x], abs_mess_group))"
   ]
  },
  {
   "cell_type": "code",
   "execution_count": 22,
   "metadata": {},
   "outputs": [],
   "source": [
    "clf2 = svm.SVC(class_weight=\"balanced\", kernel=\"linear\")"
   ]
  },
  {
   "cell_type": "code",
   "execution_count": 127,
   "metadata": {},
   "outputs": [],
   "source": [
    "X_train2, X_test2, y_train2, y_test2, t_train2, t_test2 = train_test_split(mess_vecs, mess_truth, mess_time, test_size=.70, random_state=15)"
   ]
  },
  {
   "cell_type": "code",
   "execution_count": 128,
   "metadata": {},
   "outputs": [
    {
     "data": {
      "text/plain": [
       "SVC(class_weight='balanced', kernel='linear')"
      ]
     },
     "execution_count": 128,
     "metadata": {},
     "output_type": "execute_result"
    }
   ],
   "source": [
    "clf2.fit(X_train2, y_train2)"
   ]
  },
  {
   "cell_type": "code",
   "execution_count": 129,
   "metadata": {},
   "outputs": [],
   "source": [
    "y_pred2 = clf2.predict(X_test2)"
   ]
  },
  {
   "cell_type": "code",
   "execution_count": 130,
   "metadata": {},
   "outputs": [
    {
     "data": {
      "text/plain": [
       "0.9770114942528736"
      ]
     },
     "execution_count": 130,
     "metadata": {},
     "output_type": "execute_result"
    }
   ],
   "source": [
    "accuracy_score(y_test2, y_pred2)"
   ]
  },
  {
   "cell_type": "code",
   "execution_count": 29,
   "metadata": {},
   "outputs": [],
   "source": [
    "from sklearn.decomposition import PCA"
   ]
  },
  {
   "cell_type": "code",
   "execution_count": 28,
   "metadata": {},
   "outputs": [],
   "source": [
    "pca = PCA(n_components=4)"
   ]
  },
  {
   "cell_type": "code",
   "execution_count": 181,
   "metadata": {},
   "outputs": [],
   "source": [
    "pca.fit(X_train)\n",
    "X_t_train = pca.transform(X_train)\n",
    "X_t_test = pca.transform(X_test)"
   ]
  },
  {
   "cell_type": "code",
   "execution_count": 182,
   "metadata": {},
   "outputs": [
    {
     "name": "stdout",
     "output_type": "stream",
     "text": [
      "score 0.9822119102861562\n",
      "pred label [3 3 2 ... 2 0 1]\n"
     ]
    }
   ],
   "source": [
    "slf = svm.SVC()\n",
    "slf.fit(X_t_train, y_train)\n",
    "print ('score', slf.score(X_t_test, y_test))\n",
    "print ('pred label', slf.predict(X_t_test))"
   ]
  },
  {
   "cell_type": "code",
   "execution_count": 183,
   "metadata": {},
   "outputs": [
    {
     "data": {
      "text/plain": [
       "<matplotlib.collections.PathCollection at 0x7f8f951d8370>"
      ]
     },
     "execution_count": 183,
     "metadata": {},
     "output_type": "execute_result"
    },
    {
     "data": {
      "image/png": "[encoded data removed]",
      "text/plain": [
       "<Figure size 432x288 with 1 Axes>"
      ]
     },
     "metadata": {
      "image/png": {
       "height": 248,
       "width": 383
      },
      "needs_background": "light"
     },
     "output_type": "display_data"
    }
   ],
   "source": [
    "cs = [\"r\",\"g\",\"b\",\"y\"]\n",
    "func = lambda x: cs[x]\n",
    "plt.scatter(X_t_train[:,0], X_t_train[:,1], color=list(map(func, y_train)))"
   ]
  },
  {
   "cell_type": "code",
   "execution_count": 184,
   "metadata": {},
   "outputs": [
    {
     "data": {
      "text/plain": [
       "array([[-0.30523791,  2.30199086,  0.74090028,  3.27505278],\n",
       "       [-0.30394098,  2.30037688,  0.74914573,  3.27005692],\n",
       "       [ 0.84321053,  2.20863405,  3.2498729 , -0.26358229],\n",
       "       [-0.30546683,  2.30243922,  0.73539113,  3.27798569],\n",
       "       [ 0.76468063,  2.23026953,  3.2610615 , -0.25835253],\n",
       "       [ 0.7621945 ,  3.28360053,  2.11774511, -0.2632944 ],\n",
       "       [ 3.29935348,  2.1756501 ,  0.76348366, -0.29402866],\n",
       "       [ 1.90062985,  3.26836368,  0.86137141, -0.24987232],\n",
       "       [ 1.87481196,  1.15271257,  3.26500781, -0.26826283],\n",
       "       [ 1.85912033,  3.26535357,  0.84295403, -0.23172433]])"
      ]
     },
     "execution_count": 184,
     "metadata": {},
     "output_type": "execute_result"
    }
   ],
   "source": [
    "clf.decision_function(X_test)[:10]"
   ]
  },
  {
   "cell_type": "code",
   "execution_count": 185,
   "metadata": {},
   "outputs": [
    {
     "data": {
      "text/plain": [
       "[3, 3, 2, 3, 2, 1, 0, 1, 2, 1]"
      ]
     },
     "execution_count": 185,
     "metadata": {},
     "output_type": "execute_result"
    }
   ],
   "source": [
    "y_test[:10]"
   ]
  },
  {
   "cell_type": "code",
   "execution_count": null,
   "metadata": {},
   "outputs": [],
   "source": []
  },
  {
   "cell_type": "code",
   "execution_count": 30,
   "metadata": {},
   "outputs": [],
   "source": [
    "pca = PCA(n_components=4)"
   ]
  },
  {
   "cell_type": "code",
   "execution_count": 32,
   "metadata": {},
   "outputs": [],
   "source": [
    "pca.fit(X_train2)\n",
    "X_t_train = pca.transform(X_train2)\n",
    "X_t_test = pca.transform(X_test2)"
   ]
  },
  {
   "cell_type": "code",
   "execution_count": 33,
   "metadata": {},
   "outputs": [
    {
     "name": "stdout",
     "output_type": "stream",
     "text": [
      "score 0.6459770114942529\n",
      "pred label [1 1 3 3 3 0 3 0 2 0 2 0 2 0 0 2 1 2 0 0 1 3 1 0 1 1 2 0 2 2 2 1 1 0 2 2 2\n",
      " 2 3 0 2 1 2 1 0 3 1 0 2 0 0 3 3 0 1 0 1 1 0 2 3 2 0 2 2 0 1 2 0 2 1 2 0 2\n",
      " 3 1 1 1 0 0 3 2 1 2 2 2 1 1 1 2 1 0 1 0 0 2 2 1 1 1 1 2 1 1 2 3 0 1 2 2 2\n",
      " 0 0 3 2 3 2 1 1 1 0 3 2 0 1 1 2 0 3 2 1 0 2 2 1 2 1 1 2 1 2 1 2 0 2 1 1 3\n",
      " 1 2 3 0 2 2 2 2 3 0 0 0 1 2 2 0 1 1 2 3 2 0 2 3 2 0 1 1 2 2 0 2 3 2 0 2 0\n",
      " 2 0 1 0 1 1 3 0 0 0 1 0 1 2 1 2 1 1 2 2 2 1 2 1 2 3 2 1 0 2 1 2 1 2 2 1 2\n",
      " 1 1 0 2 3 0 2 2 2 0 1 2 0 2 3 2 3 2 2 0 2 2 1 2 3 1 2 1 2 3 2 1 3 0 0 3 1\n",
      " 0 0 2 3 1 3 2 3 0 1 0 3 1 1 0 2 3 2 1 2 3 3 0 3 1 2 0 1 0 0 2 2 2 2 1 3 2\n",
      " 2 1 2 0 0 0 2 3 0 2 2 0 3 3 1 0 3 1 2 1 0 0 3 0 1 1 3 2 1 1 2 0 2 2 3 2 1\n",
      " 2 2 2 0 3 2 2 0 2 0 2 3 1 2 1 2 1 2 3 0 3 2 0 0 3 2 0 0 0 1 2 3 3 0 3 2 3\n",
      " 2 2 3 3 2 1 0 0 0 2 3 2 3 2 0 0 3 3 2 0 2 0 2 2 0 3 0 3 2 2 2 2 1 3 0 0 2\n",
      " 2 1 1 2 2 0 0 1 0 3 2 3 2 0 2 1 1 2 2 0 3 2 3 1 0 0 1 3]\n",
      "[1, 1, 3, 3, 3, 0, 3, 0, 1, 2, 0, 0, 0, 0, 2, 0, 1, 1, 0, 0, 1, 3, 1, 0, 1, 0, 0, 0, 0, 0, 2, 1, 1, 0, 0, 2, 1, 1, 3, 0, 1, 1, 1, 1, 0, 3, 0, 0, 0, 2, 0, 3, 3, 0, 1, 0, 0, 1, 0, 2, 3, 2, 0, 1, 1, 0, 1, 0, 0, 1, 1, 1, 0, 1, 3, 1, 1, 1, 0, 0, 3, 1, 1, 0, 1, 1, 1, 1, 1, 1, 0, 2, 1, 0, 2, 0, 0, 1, 1, 1, 0, 1, 0, 0, 0, 3, 0, 1, 2, 2, 0, 0, 1, 3, 1, 3, 2, 1, 1, 1, 0, 3, 0, 2, 1, 1, 0, 1, 3, 1, 1, 0, 1, 1, 1, 0, 1, 1, 0, 1, 1, 1, 1, 0, 1, 1, 1, 3, 1, 0, 3, 0, 0, 0, 2, 0, 3, 0, 0, 0, 1, 0, 0, 0, 1, 1, 0, 3, 0, 1, 2, 3, 0, 0, 1, 1, 1, 2, 0, 1, 3, 0, 0, 2, 0, 1, 0, 1, 2, 0, 1, 3, 0, 0, 0, 1, 0, 1, 1, 1, 1, 1, 1, 0, 2, 0, 1, 0, 1, 2, 3, 1, 1, 0, 0, 1, 1, 1, 2, 2, 0, 1, 1, 1, 0, 0, 3, 0, 2, 0, 0, 2, 1, 2, 0, 0, 3, 2, 3, 2, 0, 2, 1, 1, 1, 2, 3, 1, 0, 0, 0, 3, 1, 1, 3, 0, 0, 3, 1, 0, 0, 2, 3, 0, 3, 1, 3, 0, 0, 2, 3, 0, 1, 0, 2, 3, 0, 1, 0, 3, 3, 1, 3, 1, 2, 2, 1, 0, 0, 0, 0, 0, 1, 1, 3, 1, 0, 1, 0, 0, 0, 0, 1, 3, 0, 0, 0, 0, 3, 3, 1, 1, 3, 1, 1, 1, 0, 0, 3, 1, 1, 1, 3, 1, 0, 1, 1, 2, 1, 0, 3, 0, 1, 1, 0, 0, 0, 3, 1, 0, 0, 0, 0, 2, 3, 1, 0, 1, 1, 1, 0, 3, 0, 3, 2, 0, 1, 3, 0, 2, 0, 0, 1, 2, 3, 3, 0, 3, 2, 3, 2, 0, 3, 3, 2, 1, 0, 0, 0, 0, 3, 2, 3, 0, 0, 0, 3, 3, 2, 0, 2, 0, 0, 2, 0, 3, 0, 3, 0, 1, 0, 0, 1, 3, 0, 1, 1, 0, 0, 0, 0, 2, 0, 0, 1, 0, 3, 2, 3, 0, 0, 0, 1, 1, 1, 1, 0, 3, 2, 3, 1, 0, 0, 1, 3]\n"
     ]
    }
   ],
   "source": [
    "slf = svm.SVC(class_weight=\"balanced\")\n",
    "slf.fit(X_t_train, y_train2)\n",
    "print ('score', slf.score(X_t_test, y_test2))\n",
    "print ('pred label', slf.predict(X_t_test))\n",
    "print(y_test2)"
   ]
  },
  {
   "cell_type": "code",
   "execution_count": null,
   "metadata": {},
   "outputs": [],
   "source": []
  },
  {
   "cell_type": "code",
   "execution_count": 34,
   "metadata": {},
   "outputs": [
    {
     "data": {
      "text/plain": [
       "<matplotlib.collections.PathCollection at 0x7fb7d96f88e0>"
      ]
     },
     "execution_count": 34,
     "metadata": {},
     "output_type": "execute_result"
    },
    {
     "data": {
      "image/png": "[encoded data removed]",
      "text/plain": [
       "<Figure size 432x288 with 1 Axes>"
      ]
     },
     "metadata": {
      "image/png": {
       "height": 248,
       "width": 390
      },
      "needs_background": "light"
     },
     "output_type": "display_data"
    }
   ],
   "source": [
    "cs = [\"r\",\"g\",\"b\",\"y\"]\n",
    "func = lambda x: cs[x]\n",
    "plt.scatter(X_t_train[:,0], X_t_train[:,1], color=list(map(func, y_train2)))"
   ]
  },
  {
   "cell_type": "code",
   "execution_count": 35,
   "metadata": {},
   "outputs": [
    {
     "data": {
      "text/plain": [
       "<matplotlib.collections.PathCollection at 0x7fb7d95f3130>"
      ]
     },
     "execution_count": 35,
     "metadata": {},
     "output_type": "execute_result"
    },
    {
     "data": {
      "image/png": "[encoded data removed]",
      "text/plain": [
       "<Figure size 432x288 with 1 Axes>"
      ]
     },
     "metadata": {
      "image/png": {
       "height": 248,
       "width": 396
      },
      "needs_background": "light"
     },
     "output_type": "display_data"
    }
   ],
   "source": [
    "cs = [\"r\",\"g\",\"b\",\"y\"]\n",
    "func = lambda x: cs[x]\n",
    "plt.scatter(X_t_test[:,0], X_t_test[:,1], color=list(map(func, y_test2)))"
   ]
  },
  {
   "cell_type": "code",
   "execution_count": 36,
   "metadata": {},
   "outputs": [
    {
     "data": {
      "text/plain": [
       "(array([170.,   0.,   0., 145.,   0.,   0.,  49.,   0.,   0.,  71.]),\n",
       " array([0. , 0.3, 0.6, 0.9, 1.2, 1.5, 1.8, 2.1, 2.4, 2.7, 3. ]),\n",
       " <BarContainer object of 10 artists>)"
      ]
     },
     "execution_count": 36,
     "metadata": {},
     "output_type": "execute_result"
    },
    {
     "data": {
      "image/png": "[encoded data removed]",
      "text/plain": [
       "<Figure size 432x288 with 1 Axes>"
      ]
     },
     "metadata": {
      "image/png": {
       "height": 248,
       "width": 375
      },
      "needs_background": "light"
     },
     "output_type": "display_data"
    }
   ],
   "source": [
    "plt.hist(y_test2)"
   ]
  },
  {
   "cell_type": "code",
   "execution_count": 202,
   "metadata": {},
   "outputs": [
    {
     "data": {
      "text/plain": [
       "(array([14.,  0.,  0.,  0.,  0.,  0.,  0.,  0.,  0., 35.]),\n",
       " array([0. , 0.1, 0.2, 0.3, 0.4, 0.5, 0.6, 0.7, 0.8, 0.9, 1. ]),\n",
       " <BarContainer object of 10 artists>)"
      ]
     },
     "execution_count": 202,
     "metadata": {},
     "output_type": "execute_result"
    },
    {
     "data": {
      "image/png": "[encoded data removed]",
      "text/plain": [
       "<Figure size 432x288 with 1 Axes>"
      ]
     },
     "metadata": {
      "image/png": {
       "height": 248,
       "width": 368
      },
      "needs_background": "light"
     },
     "output_type": "display_data"
    }
   ],
   "source": [
    "tmp_y_test2 = np.array(y_test2)\n",
    "plt.hist(tmp_y_test2[y_pred2 != y_test2])"
   ]
  },
  {
   "cell_type": "code",
   "execution_count": 201,
   "metadata": {},
   "outputs": [
    {
     "data": {
      "text/plain": [
       "array([0, 2, 1, 1, 1, 0, 1, 0, 0, 1, 0, 0, 0, 1, 0, 0, 1, 1, 0, 0, 1, 0,\n",
       "       0, 1, 1, 0, 1, 0, 1, 1, 0, 1, 0, 0, 1, 1, 0, 0, 0, 0, 0, 3, 0, 1,\n",
       "       0, 0, 1, 0, 0, 0, 1, 1, 1, 0, 0, 1, 0, 0, 0, 1, 0, 0, 0, 0, 0, 2,\n",
       "       1, 0, 1, 0, 0, 1, 0, 0, 0, 1, 0, 1, 0, 0, 0, 1, 0, 1, 0, 1, 0, 0,\n",
       "       0, 0, 0, 0, 1, 0, 0, 1, 0, 0, 1, 0, 1, 0, 1, 0, 0, 1, 1, 0, 0, 1,\n",
       "       1, 1, 1, 1, 0, 0, 0, 0, 1, 0, 1, 0, 0, 0, 0, 0, 0, 1, 0, 1, 1, 2,\n",
       "       1, 0, 1, 0, 0, 2, 1, 0, 0, 0, 0, 0, 1, 1, 0, 0, 0, 1, 0, 1, 1, 1,\n",
       "       1, 0, 0, 0, 0, 1, 0, 0, 0, 1, 0, 0, 0, 0, 1, 0, 0, 0, 0, 1, 1, 1,\n",
       "       1, 0, 0, 1, 0, 0, 0, 0, 0, 1, 0, 0, 0, 0, 1, 0, 0, 1, 1, 0, 1, 0,\n",
       "       0, 0, 1, 1, 1, 0, 0, 0, 0, 0, 1, 0, 1, 0, 0, 0, 0, 1, 0, 0, 1, 0,\n",
       "       0, 0, 1, 0, 0, 1, 1, 1, 1, 2, 0, 0, 1, 1, 1, 0, 1, 0, 0, 0, 0, 1,\n",
       "       0, 1, 0, 1, 0, 1, 0, 0, 0, 0, 0, 0, 0, 0, 1, 0, 0, 0, 0, 1, 0, 0,\n",
       "       0, 0, 3, 1, 0, 1, 0, 1, 0, 3, 1, 0, 2, 0, 1, 0, 1, 1, 1, 0, 0, 0,\n",
       "       1, 0, 1, 2, 0, 3, 0, 0, 1, 1, 1, 1, 3, 0, 0, 0, 0, 0, 0, 1, 0, 1,\n",
       "       1, 1, 1, 1, 0, 0, 0, 0, 0, 0, 0, 1, 1, 0, 0, 0, 0, 0, 1, 1, 0, 1,\n",
       "       1, 1, 1, 1, 0, 0, 1, 0, 0, 0, 0, 1, 1, 1, 0, 0, 1, 0, 1, 0, 1, 0,\n",
       "       1, 1, 2, 0, 0, 0, 1, 1, 1, 0, 2, 0, 0, 0, 0, 1, 1, 0, 0, 1, 0, 0,\n",
       "       1, 0, 1, 0, 0, 1, 1, 0, 0, 0, 0, 0, 0, 2, 1, 1, 0, 1, 0, 1, 0, 2,\n",
       "       1, 3, 0, 1, 0, 0, 0, 0, 0, 1, 0, 1, 0, 0, 0, 1, 1, 1, 0, 0, 0, 0,\n",
       "       0, 0, 0, 1, 0, 1, 0, 0, 1, 0, 0, 0, 3, 0, 0, 0, 1, 0, 0, 0, 2, 0,\n",
       "       0, 0, 0, 1, 0, 1, 0, 1, 0, 0, 2, 0, 0, 1, 1, 1, 0, 0, 1, 0, 1, 1,\n",
       "       0, 0, 1, 1, 0, 0, 0, 0, 1, 2, 0, 0, 0, 0, 1, 0, 1, 0, 0, 0, 0, 0,\n",
       "       0, 1, 0, 0, 0, 0, 0, 0, 0, 1, 0, 1, 1, 0, 0, 1, 1, 0, 0, 1, 1, 1,\n",
       "       0, 1, 0, 0, 0, 1, 1, 1, 0, 0, 0, 1, 1, 1, 1, 0, 0, 1, 0, 0, 0, 1,\n",
       "       0, 1, 0, 0, 1, 1, 0, 0, 1, 0, 1, 0, 1, 0, 0, 2, 0, 0, 0, 0, 0, 0,\n",
       "       0, 0, 0, 0, 0, 0, 0, 1, 0, 0, 0, 0, 0, 0, 0, 0, 0, 0, 3, 1, 0, 0,\n",
       "       0, 0, 0, 0, 1, 0, 0, 1, 0, 0, 0, 2, 1, 0, 1, 2, 0, 0, 0, 0, 0, 2,\n",
       "       1, 0, 1, 0, 0, 2, 1, 1, 1, 1, 0, 1, 0, 0, 0, 0, 0, 1, 1, 0, 1, 0,\n",
       "       0, 2, 1, 0, 0, 0, 1, 0, 1, 0, 0, 0, 1, 1, 2, 0, 0, 1, 0, 1, 0, 0])"
      ]
     },
     "execution_count": 201,
     "metadata": {},
     "output_type": "execute_result"
    }
   ],
   "source": [
    "y_pred2"
   ]
  },
  {
   "cell_type": "code",
   "execution_count": 133,
   "metadata": {},
   "outputs": [
    {
     "data": {
      "text/plain": [
       "array([0.  , 0.5 , 0.65, 0.35, 0.85, 0.35, 0.75])"
      ]
     },
     "execution_count": 133,
     "metadata": {},
     "output_type": "execute_result"
    }
   ],
   "source": [
    "t_test2"
   ]
  },
  {
   "cell_type": "code",
   "execution_count": 225,
   "metadata": {},
   "outputs": [],
   "source": [
    "hist_data = t_test2[y_pred2 != y_test2]"
   ]
  },
  {
   "cell_type": "code",
   "execution_count": 226,
   "metadata": {},
   "outputs": [
    {
     "data": {
      "text/plain": [
       "Text(0.5, 0, 'time')"
      ]
     },
     "execution_count": 226,
     "metadata": {},
     "output_type": "execute_result"
    },
    {
     "data": {
      "image/png": "[encoded data removed]",
      "text/plain": [
       "<Figure size 432x288 with 1 Axes>"
      ]
     },
     "metadata": {
      "image/png": {
       "height": 261,
       "width": 376
      },
      "needs_background": "light"
     },
     "output_type": "display_data"
    }
   ],
   "source": [
    "plt.hist(hist_data)\n",
    "plt.ylabel(\"wrong classifications\")\n",
    "plt.xlabel(\"time\")"
   ]
  },
  {
   "cell_type": "code",
   "execution_count": 205,
   "metadata": {},
   "outputs": [
    {
     "data": {
      "text/plain": [
       "32.05"
      ]
     },
     "execution_count": 205,
     "metadata": {},
     "output_type": "execute_result"
    }
   ],
   "source": [
    "len(mess_group)/20"
   ]
  },
  {
   "cell_type": "code",
   "execution_count": 62,
   "metadata": {},
   "outputs": [],
   "source": [
    "import collections"
   ]
  },
  {
   "cell_type": "code",
   "execution_count": 74,
   "metadata": {},
   "outputs": [],
   "source": [
    "reorder_data = collections.defaultdict(list)"
   ]
  },
  {
   "cell_type": "code",
   "execution_count": 75,
   "metadata": {},
   "outputs": [],
   "source": [
    "mess_total_pred = clf2.predict(mess_vecs)"
   ]
  },
  {
   "cell_type": "code",
   "execution_count": 76,
   "metadata": {},
   "outputs": [],
   "source": [
    "for i in np.arange(len(mess_group)):\n",
    "    reorder_data[abs_mess_group[i]].append(mess_total_pred[i] == mess_truth[i])\n",
    "    "
   ]
  },
  {
   "cell_type": "code",
   "execution_count": 78,
   "metadata": {},
   "outputs": [],
   "source": [
    "for a in reorder_data.items():\n",
    "    while len(a[1]) < 21:\n",
    "        reorder_data[a[0]].append(np.nan)"
   ]
  },
  {
   "cell_type": "code",
   "execution_count": 82,
   "metadata": {},
   "outputs": [],
   "source": [
    "new_array = np.zeros((31,21))\n",
    "i = 0\n",
    "for a in reorder_data.items():\n",
    "    new_array[i] = np.array(a[1])\n",
    "    i += 1"
   ]
  },
  {
   "cell_type": "code",
   "execution_count": 83,
   "metadata": {},
   "outputs": [
    {
     "data": {
      "text/plain": [
       "Text(0.5, 1.0, 'Frame accuracy, compared to final frame prediction')"
      ]
     },
     "execution_count": 83,
     "metadata": {},
     "output_type": "execute_result"
    },
    {
     "data": {
      "image/png": "[encoded data removed]",
      "text/plain": [
       "<Figure size 288x425.143 with 1 Axes>"
      ]
     },
     "metadata": {
      "image/png": {
       "height": 389,
       "width": 326
      },
      "needs_background": "light"
     },
     "output_type": "display_data"
    }
   ],
   "source": [
    "plt.matshow(new_array)\n",
    "plt.xlabel(\"time\")\n",
    "plt.ylabel(\"simulation run\")\n",
    "plt.title(\"Frame accuracy, compared to final frame prediction\")"
   ]
  },
  {
   "cell_type": "code",
   "execution_count": 81,
   "metadata": {},
   "outputs": [
    {
     "data": {
      "text/plain": [
       "defaultdict(list,\n",
       "            {1: [True,\n",
       "              True,\n",
       "              True,\n",
       "              True,\n",
       "              True,\n",
       "              True,\n",
       "              True,\n",
       "              True,\n",
       "              True,\n",
       "              True,\n",
       "              True,\n",
       "              True,\n",
       "              True,\n",
       "              True,\n",
       "              True,\n",
       "              True,\n",
       "              True,\n",
       "              True,\n",
       "              True,\n",
       "              True,\n",
       "              nan],\n",
       "             2: [True,\n",
       "              True,\n",
       "              True,\n",
       "              True,\n",
       "              True,\n",
       "              True,\n",
       "              True,\n",
       "              True,\n",
       "              True,\n",
       "              True,\n",
       "              True,\n",
       "              True,\n",
       "              True,\n",
       "              True,\n",
       "              True,\n",
       "              True,\n",
       "              True,\n",
       "              True,\n",
       "              True,\n",
       "              True,\n",
       "              nan],\n",
       "             3: [True,\n",
       "              True,\n",
       "              True,\n",
       "              True,\n",
       "              True,\n",
       "              True,\n",
       "              True,\n",
       "              True,\n",
       "              True,\n",
       "              True,\n",
       "              True,\n",
       "              True,\n",
       "              True,\n",
       "              True,\n",
       "              True,\n",
       "              True,\n",
       "              True,\n",
       "              True,\n",
       "              True,\n",
       "              True,\n",
       "              nan],\n",
       "             4: [True,\n",
       "              True,\n",
       "              True,\n",
       "              True,\n",
       "              True,\n",
       "              True,\n",
       "              True,\n",
       "              True,\n",
       "              True,\n",
       "              True,\n",
       "              True,\n",
       "              True,\n",
       "              True,\n",
       "              True,\n",
       "              True,\n",
       "              True,\n",
       "              True,\n",
       "              True,\n",
       "              True,\n",
       "              True,\n",
       "              nan],\n",
       "             5: [True,\n",
       "              True,\n",
       "              True,\n",
       "              True,\n",
       "              True,\n",
       "              True,\n",
       "              True,\n",
       "              True,\n",
       "              True,\n",
       "              True,\n",
       "              True,\n",
       "              True,\n",
       "              True,\n",
       "              True,\n",
       "              True,\n",
       "              True,\n",
       "              True,\n",
       "              True,\n",
       "              True,\n",
       "              True,\n",
       "              nan],\n",
       "             6: [True,\n",
       "              True,\n",
       "              True,\n",
       "              True,\n",
       "              True,\n",
       "              True,\n",
       "              True,\n",
       "              True,\n",
       "              True,\n",
       "              True,\n",
       "              True,\n",
       "              True,\n",
       "              True,\n",
       "              True,\n",
       "              True,\n",
       "              True,\n",
       "              True,\n",
       "              True,\n",
       "              True,\n",
       "              True,\n",
       "              nan],\n",
       "             7: [True,\n",
       "              True,\n",
       "              True,\n",
       "              True,\n",
       "              True,\n",
       "              True,\n",
       "              True,\n",
       "              True,\n",
       "              True,\n",
       "              True,\n",
       "              True,\n",
       "              True,\n",
       "              True,\n",
       "              True,\n",
       "              True,\n",
       "              True,\n",
       "              True,\n",
       "              True,\n",
       "              True,\n",
       "              True,\n",
       "              nan],\n",
       "             8: [True,\n",
       "              True,\n",
       "              True,\n",
       "              True,\n",
       "              True,\n",
       "              True,\n",
       "              True,\n",
       "              True,\n",
       "              True,\n",
       "              True,\n",
       "              True,\n",
       "              True,\n",
       "              True,\n",
       "              True,\n",
       "              True,\n",
       "              True,\n",
       "              True,\n",
       "              True,\n",
       "              True,\n",
       "              True,\n",
       "              nan],\n",
       "             9: [True,\n",
       "              True,\n",
       "              True,\n",
       "              True,\n",
       "              True,\n",
       "              True,\n",
       "              True,\n",
       "              True,\n",
       "              True,\n",
       "              True,\n",
       "              True,\n",
       "              True,\n",
       "              True,\n",
       "              True,\n",
       "              True,\n",
       "              True,\n",
       "              True,\n",
       "              True,\n",
       "              True,\n",
       "              True,\n",
       "              nan],\n",
       "             10: [True,\n",
       "              True,\n",
       "              True,\n",
       "              True,\n",
       "              True,\n",
       "              True,\n",
       "              True,\n",
       "              True,\n",
       "              True,\n",
       "              True,\n",
       "              True,\n",
       "              True,\n",
       "              True,\n",
       "              True,\n",
       "              True,\n",
       "              True,\n",
       "              True,\n",
       "              True,\n",
       "              True,\n",
       "              True,\n",
       "              nan],\n",
       "             11: [True,\n",
       "              True,\n",
       "              True,\n",
       "              True,\n",
       "              True,\n",
       "              True,\n",
       "              True,\n",
       "              True,\n",
       "              True,\n",
       "              True,\n",
       "              True,\n",
       "              True,\n",
       "              True,\n",
       "              True,\n",
       "              True,\n",
       "              True,\n",
       "              True,\n",
       "              True,\n",
       "              True,\n",
       "              True,\n",
       "              nan],\n",
       "             12: [True,\n",
       "              True,\n",
       "              True,\n",
       "              True,\n",
       "              True,\n",
       "              True,\n",
       "              True,\n",
       "              True,\n",
       "              True,\n",
       "              True,\n",
       "              True,\n",
       "              False,\n",
       "              True,\n",
       "              True,\n",
       "              True,\n",
       "              True,\n",
       "              True,\n",
       "              True,\n",
       "              True,\n",
       "              True,\n",
       "              nan],\n",
       "             13: [True,\n",
       "              True,\n",
       "              True,\n",
       "              True,\n",
       "              True,\n",
       "              True,\n",
       "              True,\n",
       "              True,\n",
       "              True,\n",
       "              True,\n",
       "              True,\n",
       "              True,\n",
       "              True,\n",
       "              True,\n",
       "              True,\n",
       "              True,\n",
       "              True,\n",
       "              True,\n",
       "              True,\n",
       "              True,\n",
       "              nan],\n",
       "             14: [True,\n",
       "              True,\n",
       "              True,\n",
       "              True,\n",
       "              True,\n",
       "              True,\n",
       "              True,\n",
       "              True,\n",
       "              True,\n",
       "              True,\n",
       "              True,\n",
       "              True,\n",
       "              True,\n",
       "              True,\n",
       "              True,\n",
       "              True,\n",
       "              True,\n",
       "              True,\n",
       "              True,\n",
       "              True,\n",
       "              nan],\n",
       "             15: [True,\n",
       "              True,\n",
       "              True,\n",
       "              True,\n",
       "              True,\n",
       "              True,\n",
       "              True,\n",
       "              True,\n",
       "              True,\n",
       "              True,\n",
       "              True,\n",
       "              True,\n",
       "              True,\n",
       "              True,\n",
       "              True,\n",
       "              True,\n",
       "              True,\n",
       "              True,\n",
       "              True,\n",
       "              True,\n",
       "              True],\n",
       "             16: [True,\n",
       "              True,\n",
       "              True,\n",
       "              True,\n",
       "              True,\n",
       "              True,\n",
       "              True,\n",
       "              True,\n",
       "              True,\n",
       "              True,\n",
       "              True,\n",
       "              True,\n",
       "              True,\n",
       "              True,\n",
       "              True,\n",
       "              True,\n",
       "              True,\n",
       "              True,\n",
       "              True,\n",
       "              True,\n",
       "              True],\n",
       "             17: [True,\n",
       "              True,\n",
       "              True,\n",
       "              True,\n",
       "              True,\n",
       "              True,\n",
       "              True,\n",
       "              True,\n",
       "              True,\n",
       "              True,\n",
       "              True,\n",
       "              True,\n",
       "              True,\n",
       "              True,\n",
       "              True,\n",
       "              True,\n",
       "              True,\n",
       "              True,\n",
       "              True,\n",
       "              True,\n",
       "              True],\n",
       "             18: [True,\n",
       "              True,\n",
       "              True,\n",
       "              True,\n",
       "              False,\n",
       "              True,\n",
       "              True,\n",
       "              False,\n",
       "              True,\n",
       "              False,\n",
       "              True,\n",
       "              True,\n",
       "              True,\n",
       "              True,\n",
       "              True,\n",
       "              True,\n",
       "              False,\n",
       "              True,\n",
       "              True,\n",
       "              True,\n",
       "              nan],\n",
       "             19: [True,\n",
       "              True,\n",
       "              True,\n",
       "              True,\n",
       "              True,\n",
       "              True,\n",
       "              True,\n",
       "              True,\n",
       "              True,\n",
       "              True,\n",
       "              True,\n",
       "              True,\n",
       "              True,\n",
       "              True,\n",
       "              True,\n",
       "              True,\n",
       "              True,\n",
       "              True,\n",
       "              True,\n",
       "              True,\n",
       "              True],\n",
       "             20: [True,\n",
       "              True,\n",
       "              True,\n",
       "              True,\n",
       "              True,\n",
       "              True,\n",
       "              True,\n",
       "              True,\n",
       "              True,\n",
       "              True,\n",
       "              True,\n",
       "              True,\n",
       "              True,\n",
       "              True,\n",
       "              True,\n",
       "              True,\n",
       "              True,\n",
       "              True,\n",
       "              True,\n",
       "              True,\n",
       "              False],\n",
       "             21: [True,\n",
       "              True,\n",
       "              True,\n",
       "              True,\n",
       "              True,\n",
       "              True,\n",
       "              True,\n",
       "              True,\n",
       "              True,\n",
       "              True,\n",
       "              True,\n",
       "              True,\n",
       "              True,\n",
       "              True,\n",
       "              True,\n",
       "              True,\n",
       "              True,\n",
       "              nan,\n",
       "              nan,\n",
       "              nan,\n",
       "              nan],\n",
       "             22: [True,\n",
       "              True,\n",
       "              True,\n",
       "              True,\n",
       "              True,\n",
       "              True,\n",
       "              True,\n",
       "              True,\n",
       "              True,\n",
       "              True,\n",
       "              True,\n",
       "              True,\n",
       "              True,\n",
       "              True,\n",
       "              True,\n",
       "              True,\n",
       "              True,\n",
       "              True,\n",
       "              True,\n",
       "              True,\n",
       "              nan],\n",
       "             23: [True,\n",
       "              True,\n",
       "              True,\n",
       "              True,\n",
       "              True,\n",
       "              True,\n",
       "              True,\n",
       "              True,\n",
       "              True,\n",
       "              True,\n",
       "              True,\n",
       "              True,\n",
       "              True,\n",
       "              True,\n",
       "              True,\n",
       "              True,\n",
       "              True,\n",
       "              True,\n",
       "              True,\n",
       "              True,\n",
       "              nan],\n",
       "             24: [True,\n",
       "              True,\n",
       "              True,\n",
       "              True,\n",
       "              True,\n",
       "              True,\n",
       "              True,\n",
       "              True,\n",
       "              True,\n",
       "              True,\n",
       "              True,\n",
       "              True,\n",
       "              True,\n",
       "              True,\n",
       "              True,\n",
       "              True,\n",
       "              True,\n",
       "              True,\n",
       "              True,\n",
       "              True,\n",
       "              nan],\n",
       "             25: [True,\n",
       "              True,\n",
       "              True,\n",
       "              True,\n",
       "              True,\n",
       "              True,\n",
       "              True,\n",
       "              True,\n",
       "              True,\n",
       "              True,\n",
       "              True,\n",
       "              True,\n",
       "              True,\n",
       "              True,\n",
       "              True,\n",
       "              True,\n",
       "              True,\n",
       "              True,\n",
       "              True,\n",
       "              True,\n",
       "              nan],\n",
       "             26: [True,\n",
       "              True,\n",
       "              True,\n",
       "              True,\n",
       "              True,\n",
       "              True,\n",
       "              True,\n",
       "              True,\n",
       "              True,\n",
       "              True,\n",
       "              True,\n",
       "              True,\n",
       "              True,\n",
       "              True,\n",
       "              True,\n",
       "              True,\n",
       "              True,\n",
       "              True,\n",
       "              True,\n",
       "              True,\n",
       "              nan],\n",
       "             27: [True,\n",
       "              True,\n",
       "              True,\n",
       "              True,\n",
       "              True,\n",
       "              True,\n",
       "              True,\n",
       "              True,\n",
       "              True,\n",
       "              True,\n",
       "              True,\n",
       "              True,\n",
       "              True,\n",
       "              True,\n",
       "              True,\n",
       "              True,\n",
       "              True,\n",
       "              True,\n",
       "              True,\n",
       "              True,\n",
       "              nan],\n",
       "             28: [True,\n",
       "              True,\n",
       "              True,\n",
       "              True,\n",
       "              True,\n",
       "              True,\n",
       "              True,\n",
       "              True,\n",
       "              True,\n",
       "              True,\n",
       "              True,\n",
       "              True,\n",
       "              True,\n",
       "              True,\n",
       "              True,\n",
       "              True,\n",
       "              True,\n",
       "              True,\n",
       "              True,\n",
       "              True,\n",
       "              nan],\n",
       "             29: [True,\n",
       "              True,\n",
       "              True,\n",
       "              True,\n",
       "              True,\n",
       "              True,\n",
       "              True,\n",
       "              True,\n",
       "              True,\n",
       "              True,\n",
       "              True,\n",
       "              True,\n",
       "              True,\n",
       "              True,\n",
       "              True,\n",
       "              True,\n",
       "              True,\n",
       "              True,\n",
       "              True,\n",
       "              nan,\n",
       "              nan],\n",
       "             30: [True,\n",
       "              True,\n",
       "              True,\n",
       "              True,\n",
       "              False,\n",
       "              True,\n",
       "              True,\n",
       "              True,\n",
       "              True,\n",
       "              True,\n",
       "              True,\n",
       "              True,\n",
       "              True,\n",
       "              False,\n",
       "              True,\n",
       "              True,\n",
       "              True,\n",
       "              True,\n",
       "              True,\n",
       "              True,\n",
       "              nan],\n",
       "             31: [True,\n",
       "              True,\n",
       "              True,\n",
       "              True,\n",
       "              True,\n",
       "              True,\n",
       "              True,\n",
       "              True,\n",
       "              True,\n",
       "              True,\n",
       "              True,\n",
       "              True,\n",
       "              True,\n",
       "              True,\n",
       "              True,\n",
       "              True,\n",
       "              True,\n",
       "              True,\n",
       "              True,\n",
       "              True,\n",
       "              nan]})"
      ]
     },
     "execution_count": 81,
     "metadata": {},
     "output_type": "execute_result"
    }
   ],
   "source": [
    "reorder_data"
   ]
  },
  {
   "cell_type": "code",
   "execution_count": null,
   "metadata": {},
   "outputs": [],
   "source": []
  }
 ],
 "metadata": {
  "kernelspec": {
   "display_name": "Python (analysis)",
   "language": "python",
   "name": "analysis"
  },
  "language_info": {
   "codemirror_mode": {
    "name": "ipython",
    "version": 3
   },
   "file_extension": ".py",
   "mimetype": "text/x-python",
   "name": "python",
   "nbconvert_exporter": "python",
   "pygments_lexer": "ipython3",
   "version": "3.8.5"
  }
 },
 "nbformat": 4,
 "nbformat_minor": 4
}
